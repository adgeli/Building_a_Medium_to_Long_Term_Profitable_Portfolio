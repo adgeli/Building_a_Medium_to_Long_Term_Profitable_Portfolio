{
 "cells": [
  {
   "cell_type": "raw",
   "metadata": {},
   "source": []
  },
  {
   "cell_type": "code",
   "execution_count": 8,
   "metadata": {},
   "outputs": [
    {
     "data": {
      "text/plain": [
       "symbol\n",
       "NOW     0.182086\n",
       "AJG     0.158238\n",
       "PNC     0.105214\n",
       "TDY     0.102791\n",
       "CBOE    0.090488\n",
       "BKNG    0.085124\n",
       "SPGI    0.073686\n",
       "KMB     0.071610\n",
       "KEYS    0.065488\n",
       "AMAT    0.065274\n",
       "Name: profit, dtype: float64"
      ]
     },
     "execution_count": 8,
     "metadata": {},
     "output_type": "execute_result"
    }
   ],
   "source": [
    "import pandas as pd\n",
    "import numpy as np\n",
    "import datetime as dt\n",
    "from pathlib import Path\n",
    "%matplotlib inline\n",
    "\n",
    "pfolio_data = Path(\"resources/profitable_portfolio.csv\")\n",
    "pfolio_df = pd.read_csv(\n",
    "    pfolio_data, index_col=\"symbol\"\n",
    ")\n",
    "pfolio_profit_sum = sum(pfolio_df['profit'])\n",
    "pfolio_df= pfolio_df['profit'] / pfolio_profit_sum\n",
    "pfolio_df"
   ]
  },
  {
   "cell_type": "code",
   "execution_count": null,
   "metadata": {},
   "outputs": [],
   "source": []
  }
 ],
 "metadata": {
  "kernelspec": {
   "display_name": "Python [conda env:dev]",
   "language": "python",
   "name": "conda-env-dev-py"
  },
  "language_info": {
   "codemirror_mode": {
    "name": "ipython",
    "version": 3
   },
   "file_extension": ".py",
   "mimetype": "text/x-python",
   "name": "python",
   "nbconvert_exporter": "python",
   "pygments_lexer": "ipython3",
   "version": "3.7.7"
  }
 },
 "nbformat": 4,
 "nbformat_minor": 4
}
