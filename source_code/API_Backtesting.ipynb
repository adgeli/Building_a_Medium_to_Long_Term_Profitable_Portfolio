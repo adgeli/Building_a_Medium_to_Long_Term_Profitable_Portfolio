{
 "cells": [
  {
   "cell_type": "markdown",
   "metadata": {},
   "source": [
    "## SMA Trading Algorithm\n",
    "\n",
    "This section provides a better understanding how the algorithm works to determine the ten most profitable stocks from the S&P 500.\n",
    "\n",
    "The example below is the one of the ten stocks in the Profitable Portfolio, Amazon (ticker: AMZN).  \n",
    "\n",
    "Backtesting.py is a API / Python framework for inferring viability of trading strategies on historical (past) data. For this exercise we used a SMA crossover strategy with a 50 day window for the fast moving average and 100 for the slow ma.\n",
    "\n",
    "Using $10,000 as an initial investment, whenever the fast-moving average crosses the slow ma in an uptrend we go long on the position and whenever it crosses in a downtrend, we close the position and remain out.\n"
   ]
  },
  {
   "cell_type": "code",
   "execution_count": 3,
   "metadata": {},
   "outputs": [],
   "source": [
    "# for running this code you need to install:\n",
    "# \"pip install backtesting\"\n",
    "\n",
    "#Importing strategy from python Backtesting framework\n",
    "from backtesting import Backtest, Strategy\n",
    "from backtesting.lib import crossover\n",
    "# Iporting function that calculates SMA\n",
    "from backtesting.test import SMA\n",
    "\n",
    "# Pandas & other imports\n",
    "\n",
    "import datetime as dt\n",
    "import pandas as pd\n",
    "import pandas_datareader.data as web\n",
    "\n",
    "# Set range of dates to evaluate\n",
    "\n",
    "start = dt.datetime(2015, 7, 26)\n",
    "end = dt.datetime(2020, 7, 24)\n",
    "\n",
    "# Set symbol to use and initial investment\n",
    "\n",
    "symbol = \"AMZN\"\n",
    "investment = 10000\n",
    "\n",
    "# Get data from external source and arrange colums as needed by the functions\n",
    "\n",
    "symbol_df = web.DataReader(symbol, 'yahoo', start, end)\n",
    "symbol_df = symbol_df[['Open', 'High', 'Low', 'Close', 'Volume']]\n",
    "\n",
    "\n",
    "class SmaCross(Strategy):\n",
    "\n",
    "    # Define the window of both moving averages\n",
    "    n1 = 50\n",
    "    n2 = 100\n",
    "\n",
    "    def init(self):\n",
    "        self.sma1 = self.I(SMA, self.data.Close, self.n1)\n",
    "        self.sma2 = self.I(SMA, self.data.Close, self.n2)\n",
    "\n",
    "    def next(self):\n",
    "        if crossover(self.sma1, self.sma2):\n",
    "            self.buy()\n",
    "        elif crossover(self.sma2, self.sma1):\n",
    "            self.sell()\n",
    "\n",
    "def api_function():\n",
    "    bt = Backtest(symbol_df, SmaCross, cash=investment,\n",
    "              commission=.000, exclusive_orders=True)\n",
    "    return bt\n",
    "\n",
    "#output = api_function()\n",
    "#Get output data\n",
    "#output.run()"
   ]
  },
  {
   "cell_type": "code",
   "execution_count": null,
   "metadata": {},
   "outputs": [],
   "source": []
  }
 ],
 "metadata": {
  "kernelspec": {
   "display_name": "Python 3.7.7 64-bit ('pyvizenv': conda)",
   "language": "python",
   "name": "python37764bitpyvizenvconda594889b1a87949ab9fc74bcf250df1c0"
  },
  "language_info": {
   "codemirror_mode": {
    "name": "ipython",
    "version": 3
   },
   "file_extension": ".py",
   "mimetype": "text/x-python",
   "name": "python",
   "nbconvert_exporter": "python",
   "pygments_lexer": "ipython3",
   "version": "3.7.7-final"
  }
 },
 "nbformat": 4,
 "nbformat_minor": 4
}